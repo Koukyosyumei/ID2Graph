{
 "cells": [
  {
   "cell_type": "code",
   "execution_count": 8,
   "id": "dc9127c0-174e-4c17-a141-4dc2a5cbf4e1",
   "metadata": {},
   "outputs": [],
   "source": [
    "import numpy as np\n",
    "from matplotlib import pyplot as plt\n",
    "import pandas as pd\n",
    "import os"
   ]
  },
  {
   "cell_type": "code",
   "execution_count": 9,
   "id": "077eb6ad-fedb-47ca-8595-7a93e438390f",
   "metadata": {},
   "outputs": [],
   "source": [
    "def balance(seq):\n",
    "    from collections import Counter\n",
    "    from numpy import log\n",
    "    \n",
    "    n = len(seq)\n",
    "    classes = [(clas,float(count)) for clas,count in Counter(seq).items()]\n",
    "    k = len(classes)\n",
    "    \n",
    "    H = -sum([ (count/n) * log((count/n)) for clas,count in classes]) #shannon entropy\n",
    "    return H/log(k)"
   ]
  },
  {
   "cell_type": "code",
   "execution_count": 12,
   "id": "a7e90558-8e0a-4e68-b3fa-58ab0ce15043",
   "metadata": {},
   "outputs": [
    {
     "data": {
      "text/plain": [
       "0.7374900947698226"
      ]
     },
     "execution_count": 12,
     "metadata": {},
     "output_type": "execute_result"
    }
   ],
   "source": [
    "df_tr = pd.read_csv(\n",
    "    os.path.join(\"avila\", \"avila-tr.txt\"),\n",
    "    header=None,\n",
    ")\n",
    "df_ts = pd.read_csv(\n",
    "    os.path.join(\"avila\", \"avila-ts.txt\"),\n",
    "    header=None,\n",
    ")\n",
    "df = pd.concat([df_tr, df_ts], axis=0)\n",
    "\n",
    "balance(df[10].tolist())"
   ]
  },
  {
   "cell_type": "code",
   "execution_count": 15,
   "id": "021bce19-8a06-42fd-ae1c-53f4d0a9918b",
   "metadata": {},
   "outputs": [
    {
     "data": {
      "text/plain": [
       "0.9906239227414301"
      ]
     },
     "execution_count": 15,
     "metadata": {},
     "output_type": "execute_result"
    }
   ],
   "source": [
    "df = pd.read_csv(\n",
    "    os.path.join(\"phishing\", \"phishing.data\"), header=None\n",
    ")\n",
    "df[30] = df[30].apply(lambda x: 0 if x == -1 else 1)\n",
    "y = df[30].values\n",
    "\n",
    "balance(y)"
   ]
  },
  {
   "cell_type": "code",
   "execution_count": 16,
   "id": "928c068c-fafb-4382-b0b5-8fc463bd3db4",
   "metadata": {},
   "outputs": [
    {
     "data": {
      "text/plain": [
       "1.0"
      ]
     },
     "execution_count": 16,
     "metadata": {},
     "output_type": "execute_result"
    }
   ],
   "source": [
    "df = pd.read_csv(\n",
    "    os.path.join(\"drive\", \"Sensorless_drive_diagnosis.txt\"),\n",
    "    sep=\" \",\n",
    "    header=None,\n",
    ")\n",
    "\n",
    "X = df[list(range(48))].values\n",
    "y = df[48].values - 1\n",
    "\n",
    "balance(y)"
   ]
  },
  {
   "cell_type": "code",
   "execution_count": 19,
   "id": "fd49654f-4489-41af-a4f5-2e18bad3616e",
   "metadata": {},
   "outputs": [
    {
     "data": {
      "text/plain": [
       "0.7938438393644257"
      ]
     },
     "execution_count": 19,
     "metadata": {},
     "output_type": "execute_result"
    }
   ],
   "source": [
    "df = pd.concat(\n",
    "    [\n",
    "        pd.read_csv(\n",
    "            os.path.join(\"adult\", \"adult.data\"), header=None\n",
    "        ),\n",
    "        pd.read_csv(\n",
    "            os.path.join(\"adult\", \"adult.test\"), header=None\n",
    "        ),\n",
    "    ]\n",
    ")\n",
    "\n",
    "balance(df[14])"
   ]
  },
  {
   "cell_type": "code",
   "execution_count": 21,
   "id": "fab9d4a1-68f1-4a58-8f26-3522df89ecc3",
   "metadata": {},
   "outputs": [
    {
     "data": {
      "text/plain": [
       "0.7392545462382466"
      ]
     },
     "execution_count": 21,
     "metadata": {},
     "output_type": "execute_result"
    }
   ],
   "source": [
    "df = pd.read_csv(\n",
    "    os.path.join(\"nursery\", \"nursery.data\"), header=None\n",
    ")\n",
    "balance(df[8])"
   ]
  },
  {
   "cell_type": "code",
   "execution_count": 26,
   "id": "b73a65ba-15f5-4765-8539-231238e28332",
   "metadata": {},
   "outputs": [
    {
     "data": {
      "text/plain": [
       "0.7623526222941667"
      ]
     },
     "execution_count": 26,
     "metadata": {},
     "output_type": "execute_result"
    }
   ],
   "source": [
    "df = pd.read_csv(\"ucicreditcard/UCI_Credit_Card.csv\")\n",
    "balance(df[\"default.payment.next.month\"].tolist())"
   ]
  },
  {
   "cell_type": "code",
   "execution_count": 30,
   "id": "1ba7b8c9-e70e-4fa2-a9e7-89935591675c",
   "metadata": {},
   "outputs": [
    {
     "data": {
      "text/plain": [
       "0.8352016012217544"
      ]
     },
     "execution_count": 30,
     "metadata": {},
     "output_type": "execute_result"
    }
   ],
   "source": [
    "df = pd.read_csv(\n",
    "    os.path.join(\"fraud\", \"fraud_detection_bank_dataset.csv\")\n",
    ")\n",
    "balance(df[\"targets\"])"
   ]
  },
  {
   "cell_type": "code",
   "execution_count": null,
   "id": "ca0750b6-9a89-4bca-ba72-5645f457318e",
   "metadata": {},
   "outputs": [],
   "source": []
  }
 ],
 "metadata": {
  "kernelspec": {
   "display_name": "Python 3",
   "language": "python",
   "name": "python3"
  },
  "language_info": {
   "codemirror_mode": {
    "name": "ipython",
    "version": 3
   },
   "file_extension": ".py",
   "mimetype": "text/x-python",
   "name": "python",
   "nbconvert_exporter": "python",
   "pygments_lexer": "ipython3",
   "version": "3.9.1"
  }
 },
 "nbformat": 4,
 "nbformat_minor": 5
}
