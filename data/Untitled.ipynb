{
 "cells": [
  {
   "cell_type": "code",
   "execution_count": 6,
   "id": "dc9127c0-174e-4c17-a141-4dc2a5cbf4e1",
   "metadata": {},
   "outputs": [],
   "source": [
    "import numpy as np\n",
    "from matplotlib import pyplot as plt\n",
    "\n",
    "plt.style.use(\"ggplot\")\n",
    "\n",
    "dataset_name = \"nursery\""
   ]
  },
  {
   "cell_type": "code",
   "execution_count": 7,
   "id": "f27c5265-7270-4bdb-a2e7-7fd1c88a8d18",
   "metadata": {},
   "outputs": [],
   "source": [
    "fti = sum(\n",
    "    [\n",
    "        np.sort(np.load(f\"{dataset_name}/{dataset_name}_{i}_fti.npy\"))\n",
    "        for i in range(1, 6)\n",
    "    ]\n",
    ")\n",
    "pos = [int(fti.shape[0] * (i / 10)) for i in range(10)]"
   ]
  },
  {
   "cell_type": "code",
   "execution_count": 8,
   "id": "93bac9bd-e4af-4e95-8f82-564f851ddc2b",
   "metadata": {},
   "outputs": [],
   "source": [
    "fti_ = fti[list(reversed(pos))]\n",
    "color = [\"#348ABD\" if f > 0 else \"#E24A33\" for f in fti_]"
   ]
  },
  {
   "cell_type": "code",
   "execution_count": 9,
   "id": "40e50d30-9d41-4406-a740-337a1b491211",
   "metadata": {},
   "outputs": [
    {
     "data": {
      "text/plain": [
       "<BarContainer object of 10 artists>"
      ]
     },
     "execution_count": 9,
     "metadata": {},
     "output_type": "execute_result"
    },
    {
     "data": {
      "image/png": "[encoded data removed]",
      "text/plain": [
       "<Figure size 640x480 with 1 Axes>"
      ]
     },
     "metadata": {},
     "output_type": "display_data"
    }
   ],
   "source": [
    "plt.bar(list(range(1, 11)), fti_, color=color)"
   ]
  },
  {
   "cell_type": "code",
   "execution_count": 5,
   "id": "4efd9d9f-a2ff-4433-a680-3b9a4dcc145b",
   "metadata": {},
   "outputs": [],
   "source": [
    "color = color"
   ]
  },
  {
   "cell_type": "code",
   "execution_count": 5,
   "id": "86fd0026-df42-46db-bb1f-749529388fcf",
   "metadata": {},
   "outputs": [
    {
     "data": {
      "text/plain": [
       "['#E24A33', '#348ABD', '#988ED5', '#777777', '#FBC15E', '#8EBA42', '#FFB5B8']"
      ]
     },
     "execution_count": 5,
     "metadata": {},
     "output_type": "execute_result"
    }
   ],
   "source": [
    "plt.rcParams[\"axes.prop_cycle\"].by_key()[\"color\"]"
   ]
  },
  {
   "cell_type": "code",
   "execution_count": null,
   "id": "45974870-873b-4565-862d-3020df735894",
   "metadata": {},
   "outputs": [],
   "source": []
  }
 ],
 "metadata": {
  "kernelspec": {
   "display_name": "Python 3",
   "language": "python",
   "name": "python3"
  },
  "language_info": {
   "codemirror_mode": {
    "name": "ipython",
    "version": 3
   },
   "file_extension": ".py",
   "mimetype": "text/x-python",
   "name": "python",
   "nbconvert_exporter": "python",
   "pygments_lexer": "ipython3",
   "version": "3.9.1"
  }
 },
 "nbformat": 4,
 "nbformat_minor": 5
}
